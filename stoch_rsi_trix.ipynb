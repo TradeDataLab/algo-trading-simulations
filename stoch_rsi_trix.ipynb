{
 "cells": [
  {
   "cell_type": "code",
   "execution_count": 3,
   "metadata": {},
   "outputs": [],
   "source": [
    "import ccxt\n",
    "import pandas as pd\n",
    "import pandas_ta as ta\n",
    "import matplotlib.pyplot as plt"
   ]
  },
  {
   "cell_type": "code",
   "execution_count": 4,
   "metadata": {},
   "outputs": [
    {
     "ename": "ModuleNotFoundError",
     "evalue": "No module named 'plotly'",
     "output_type": "error",
     "traceback": [
      "\u001b[0;31m---------------------------------------------------------------------------\u001b[0m",
      "\u001b[0;31mModuleNotFoundError\u001b[0m                       Traceback (most recent call last)",
      "Cell \u001b[0;32mIn[4], line 1\u001b[0m\n\u001b[0;32m----> 1\u001b[0m \u001b[39mimport\u001b[39;00m \u001b[39mplotly\u001b[39;00m\u001b[39m.\u001b[39;00m\u001b[39mgraph_objects\u001b[39;00m \u001b[39mas\u001b[39;00m \u001b[39mgo\u001b[39;00m\n\u001b[1;32m      2\u001b[0m \u001b[39mfrom\u001b[39;00m \u001b[39mplotly\u001b[39;00m\u001b[39m.\u001b[39;00m\u001b[39msubplots\u001b[39;00m \u001b[39mimport\u001b[39;00m make_subplots\n",
      "\u001b[0;31mModuleNotFoundError\u001b[0m: No module named 'plotly'"
     ]
    }
   ],
   "source": [
    "import plotly.graph_objects as go\n",
    "from plotly.subplots import make_subplots"
   ]
  },
  {
   "cell_type": "code",
   "execution_count": 9,
   "metadata": {},
   "outputs": [],
   "source": [
    "ex = ccxt.binance()\n",
    "from_ts = ex.parse8601('2018-05-18 00:00:00')\n",
    "ohlcv_list = []\n",
    "ohlcv = ex.fetch_ohlcv('BTC/USDT', '1m', since=from_ts, limit=1000)\n",
    "ohlcv_list.append(ohlcv)\n",
    "while True:\n",
    "    from_ts = ohlcv[-1][0]\n",
    "    new_ohlcv = ex.fetch_ohlcv('BTC/USDT', '1m', since=from_ts, limit=1000)\n",
    "    ohlcv.extend(new_ohlcv)\n",
    "    if len(new_ohlcv)!=1000:\n",
    "    \tbreak"
   ]
  },
  {
   "cell_type": "code",
   "execution_count": 10,
   "metadata": {},
   "outputs": [],
   "source": [
    "df = pd.DataFrame(ohlcv, columns=['date', 'open', 'high', 'low', 'close', 'volume'])\n",
    "df['date'] = pd.to_datetime(df['date'], unit='ms')\n",
    "df.set_index('date', inplace=True)\n",
    "df = df.sort_index(ascending=True)\n",
    "\n",
    "df.to_pickle(\"./BTC_USDT.pkl\") "
   ]
  },
  {
   "cell_type": "code",
   "execution_count": 13,
   "metadata": {},
   "outputs": [],
   "source": []
  },
  {
   "cell_type": "code",
   "execution_count": 11,
   "metadata": {},
   "outputs": [
    {
     "ename": "AttributeError",
     "evalue": "'DataFrame' object has no attribute 'ta'",
     "output_type": "error",
     "traceback": [
      "\u001b[0;31m---------------------------------------------------------------------------\u001b[0m",
      "\u001b[0;31mAttributeError\u001b[0m                            Traceback (most recent call last)",
      "Cell \u001b[0;32mIn[11], line 5\u001b[0m\n\u001b[1;32m      2\u001b[0m k_period \u001b[39m=\u001b[39m \u001b[39m10\u001b[39m\n\u001b[1;32m      3\u001b[0m d_period \u001b[39m=\u001b[39m \u001b[39m5\u001b[39m\n\u001b[0;32m----> 5\u001b[0m df\u001b[39m.\u001b[39;49mta\u001b[39m.\u001b[39mstoch(high\u001b[39m=\u001b[39m\u001b[39m'\u001b[39m\u001b[39mhigh\u001b[39m\u001b[39m'\u001b[39m, low\u001b[39m=\u001b[39m\u001b[39m'\u001b[39m\u001b[39mlow\u001b[39m\u001b[39m'\u001b[39m, k\u001b[39m=\u001b[39mk_period, d\u001b[39m=\u001b[39md_period, append\u001b[39m=\u001b[39m\u001b[39mTrue\u001b[39;00m)\n",
      "File \u001b[0;32m~/anaconda3/envs/p311/lib/python3.11/site-packages/pandas/core/generic.py:5989\u001b[0m, in \u001b[0;36mNDFrame.__getattr__\u001b[0;34m(self, name)\u001b[0m\n\u001b[1;32m   5982\u001b[0m \u001b[39mif\u001b[39;00m (\n\u001b[1;32m   5983\u001b[0m     name \u001b[39mnot\u001b[39;00m \u001b[39min\u001b[39;00m \u001b[39mself\u001b[39m\u001b[39m.\u001b[39m_internal_names_set\n\u001b[1;32m   5984\u001b[0m     \u001b[39mand\u001b[39;00m name \u001b[39mnot\u001b[39;00m \u001b[39min\u001b[39;00m \u001b[39mself\u001b[39m\u001b[39m.\u001b[39m_metadata\n\u001b[1;32m   5985\u001b[0m     \u001b[39mand\u001b[39;00m name \u001b[39mnot\u001b[39;00m \u001b[39min\u001b[39;00m \u001b[39mself\u001b[39m\u001b[39m.\u001b[39m_accessors\n\u001b[1;32m   5986\u001b[0m     \u001b[39mand\u001b[39;00m \u001b[39mself\u001b[39m\u001b[39m.\u001b[39m_info_axis\u001b[39m.\u001b[39m_can_hold_identifiers_and_holds_name(name)\n\u001b[1;32m   5987\u001b[0m ):\n\u001b[1;32m   5988\u001b[0m     \u001b[39mreturn\u001b[39;00m \u001b[39mself\u001b[39m[name]\n\u001b[0;32m-> 5989\u001b[0m \u001b[39mreturn\u001b[39;00m \u001b[39mobject\u001b[39;49m\u001b[39m.\u001b[39;49m\u001b[39m__getattribute__\u001b[39;49m(\u001b[39mself\u001b[39;49m, name)\n",
      "\u001b[0;31mAttributeError\u001b[0m: 'DataFrame' object has no attribute 'ta'"
     ]
    }
   ],
   "source": [
    "# Define %K and %D\n",
    "k_period = 10\n",
    "d_period = 5\n",
    "\n",
    "df.ta.stoch(high='high', low='low', k=k_period, d=d_period, append=True)"
   ]
  },
  {
   "cell_type": "code",
   "execution_count": null,
   "metadata": {},
   "outputs": [],
   "source": [
    "# Avoid case-sensitive issues for accessing data.\n",
    "# Optional if using pandas_ta\n",
    "df.columns = [x.lower() for x in df.columns]\n",
    "# Create our primary chart\n",
    "# the rows/cols arguments tell plotly we want two figures\n",
    "fig = make_subplots(rows=2, cols=1)  \n",
    "# Create our Candlestick chart with an overlaid price line\n",
    "fig.append_trace(\n",
    "    go.Candlestick(\n",
    "        x=df.index,\n",
    "        open=df['open'],\n",
    "        high=df['high'],\n",
    "        low=df['low'],\n",
    "        close=df['close'],\n",
    "        increasing_line_color='green',\n",
    "        decreasing_line_color='red',\n",
    "        showlegend=False\n",
    "    ), row=1, col=1  # <------------ upper chart\n",
    ")\n",
    "# price Line\n",
    "fig.append_trace(\n",
    "    go.Scatter(\n",
    "        x=df.index,\n",
    "        y=df['open'],\n",
    "        line=dict(color='#ff9900', width=1),\n",
    "        name='open',\n",
    "    ), row=1, col=1  # <------------ upper chart\n",
    ")\n",
    "# Fast Signal (%k)\n",
    "fig.append_trace(\n",
    "    go.Scatter(\n",
    "        x=df.index,\n",
    "        y=df['stochk_14_3_3'],\n",
    "        line=dict(color='#ff9900', width=2),\n",
    "        name='fast',\n",
    "    ), row=2, col=1  #  <------------ lower chart\n",
    ")\n",
    "# Slow signal (%d)\n",
    "fig.append_trace(\n",
    "    go.Scatter(\n",
    "        x=df.index,\n",
    "        y=df['stochd_14_3_3'],\n",
    "        line=dict(color='#000000', width=2),\n",
    "        name='slow'\n",
    "    ), row=2, col=1  # <------------ lower chart\n",
    ")\n",
    "# Extend our y-axis a bit\n",
    "fig.update_yaxes(range=[-10, 110], row=2, col=1)\n",
    "# Add upper/lower bounds\n",
    "fig.add_hline(y=0, col=1, row=2, line_color=\"#666\", line_width=2)\n",
    "fig.add_hline(y=100, col=1, row=2, line_color=\"#666\", line_width=2)\n",
    "# Add overbought/oversold\n",
    "fig.add_hline(y=20, col=1, row=2, line_color='#336699', line_width=2, line_dash='dash')\n",
    "fig.add_hline(y=80, col=1, row=2, line_color='#336699', line_width=2, line_dash='dash')\n",
    "# Make it pretty\n",
    "layout = go.Layout(\n",
    "    plot_bgcolor='#efefef',\n",
    "    # Font Families\n",
    "    font_family='Monospace',\n",
    "    font_color='#000000',\n",
    "    font_size=20,\n",
    "    xaxis=dict(\n",
    "        rangeslider=dict(\n",
    "            visible=False\n",
    "        )\n",
    "    )\n",
    ")\n",
    "fig.update_layout(layout)\n",
    "# View our chart in the system default HTML viewer (Chrome, Firefox, etc.)\n",
    "fig.show()"
   ]
  },
  {
   "cell_type": "code",
   "execution_count": null,
   "metadata": {},
   "outputs": [],
   "source": []
  },
  {
   "cell_type": "code",
   "execution_count": null,
   "metadata": {},
   "outputs": [],
   "source": []
  },
  {
   "cell_type": "code",
   "execution_count": null,
   "metadata": {},
   "outputs": [],
   "source": []
  }
 ],
 "metadata": {
  "kernelspec": {
   "display_name": "p311",
   "language": "python",
   "name": "python3"
  },
  "language_info": {
   "codemirror_mode": {
    "name": "ipython",
    "version": 3
   },
   "file_extension": ".py",
   "mimetype": "text/x-python",
   "name": "python",
   "nbconvert_exporter": "python",
   "pygments_lexer": "ipython3",
   "version": "3.11.2"
  },
  "orig_nbformat": 4,
  "vscode": {
   "interpreter": {
    "hash": "515f7daad0d972d11a8a6ce966c8a8aac67efdd485f0349d63250ec39eee8bab"
   }
  }
 },
 "nbformat": 4,
 "nbformat_minor": 2
}
