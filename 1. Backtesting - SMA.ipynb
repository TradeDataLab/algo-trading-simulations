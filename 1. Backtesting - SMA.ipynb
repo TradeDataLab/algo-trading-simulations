{
 "cells": [
  {
   "attachments": {},
   "cell_type": "markdown",
   "metadata": {},
   "source": [
    "### Left to to be implemented:\n",
    "- Metrics: return per annum, heat map per month, win rate, trades done \n",
    "- Cross validation, check on different parts of the data"
   ]
  },
  {
   "cell_type": "code",
   "execution_count": 1,
   "metadata": {},
   "outputs": [],
   "source": [
    "from backtesting import Backtester, SMAstrategy, get_data\n",
    "import pandas as pd"
   ]
  },
  {
   "cell_type": "code",
   "execution_count": 2,
   "metadata": {},
   "outputs": [
    {
     "name": "stderr",
     "output_type": "stream",
     "text": [
      "100%|██████████| 3422/3422 [19:53<00:00,  2.87it/s]\n"
     ]
    }
   ],
   "source": [
    "# Check the combinations whithout commission factor\n",
    "if __name__ == '__main__':   \n",
    "    \n",
    "    BTC_USDT = get_data()    \n",
    "    \n",
    "    # Define the parameter ranges for optimization\n",
    "    parameter_ranges = {\"window_1\": range(2, 61), \"window_2\": range(2,61)}\n",
    "    strategy = SMAstrategy(window_1=2, window_2=5)\n",
    "    backtest = Backtester(strategy, BTC_USDT, parameters=parameter_ranges, initial_cash=1000, commission=0.00)\n",
    "\n",
    "    # Run optimization and get the best parameters\n",
    "    results_no_commision = backtest.run_simulation()"
   ]
  },
  {
   "cell_type": "code",
   "execution_count": 3,
   "metadata": {},
   "outputs": [
    {
     "data": {
      "text/plain": [
       "(75, 4)"
      ]
     },
     "execution_count": 3,
     "metadata": {},
     "output_type": "execute_result"
    }
   ],
   "source": [
    "# Check how many combinations perform better than BUY and HOLD benchmark\n",
    "results_no_commision[results_no_commision['return_multiplier_strategy'] > results_no_commision['return_multiplier_bh']].shape"
   ]
  },
  {
   "cell_type": "code",
   "execution_count": 4,
   "metadata": {},
   "outputs": [
    {
     "name": "stderr",
     "output_type": "stream",
     "text": [
      "100%|██████████| 3422/3422 [26:39<00:00,  2.14it/s]\n"
     ]
    }
   ],
   "source": [
    "# Check the combinations whith commission factor\n",
    "if __name__ == '__main__':   \n",
    "    \n",
    "    BTC_USDT = get_data()    \n",
    "    \n",
    "    # Define the parameter ranges for optimization\n",
    "    parameter_ranges = {\"window_1\": range(2, 61), \"window_2\": range(2,61)}\n",
    "    strategy = SMAstrategy(window_1=2, window_2=5)\n",
    "    backtest = Backtester(strategy, BTC_USDT, parameters=parameter_ranges, initial_cash=1000, commission=0.001)\n",
    "\n",
    "    # Run optimization and get the best parameters\n",
    "    results_commision = backtest.run_simulation()"
   ]
  },
  {
   "cell_type": "code",
   "execution_count": 5,
   "metadata": {},
   "outputs": [
    {
     "data": {
      "text/plain": [
       "(0, 4)"
      ]
     },
     "execution_count": 5,
     "metadata": {},
     "output_type": "execute_result"
    }
   ],
   "source": [
    "# Check how many combinations perform better than BUY and HOLD benchmark\n",
    "results_commision[results_commision['return_multiplier_strategy'] > results_commision['return_multiplier_bh']].shape"
   ]
  }
 ],
 "metadata": {
  "kernelspec": {
   "display_name": "p311",
   "language": "python",
   "name": "python3"
  },
  "language_info": {
   "codemirror_mode": {
    "name": "ipython",
    "version": 3
   },
   "file_extension": ".py",
   "mimetype": "text/x-python",
   "name": "python",
   "nbconvert_exporter": "python",
   "pygments_lexer": "ipython3",
   "version": "3.11.2"
  },
  "orig_nbformat": 4,
  "vscode": {
   "interpreter": {
    "hash": "515f7daad0d972d11a8a6ce966c8a8aac67efdd485f0349d63250ec39eee8bab"
   }
  }
 },
 "nbformat": 4,
 "nbformat_minor": 2
}
